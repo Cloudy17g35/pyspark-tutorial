{
 "cells": [
  {
   "cell_type": "markdown",
   "metadata": {},
   "source": [
    "# Imports"
   ]
  },
  {
   "cell_type": "code",
   "execution_count": 1,
   "metadata": {},
   "outputs": [],
   "source": [
    "from typing import List\n",
    "from pyspark.sql import SparkSession"
   ]
  },
  {
   "cell_type": "markdown",
   "metadata": {},
   "source": [
    "Anytime we want to work with spark we need to create a new seession, here's the code which enables it:"
   ]
  },
  {
   "cell_type": "code",
   "execution_count": 2,
   "metadata": {},
   "outputs": [
    {
     "name": "stdout",
     "output_type": "stream",
     "text": [
      "22/11/02 21:01:56 WARN Utils: Your hostname, Ksawerys-MacBook-Pro.local resolves to a loopback address: 127.0.0.1; using 192.168.0.19 instead (on interface en0)\n",
      "22/11/02 21:01:56 WARN Utils: Set SPARK_LOCAL_IP if you need to bind to another address\n"
     ]
    },
    {
     "name": "stderr",
     "output_type": "stream",
     "text": [
      "Setting default log level to \"WARN\".\n",
      "To adjust logging level use sc.setLogLevel(newLevel). For SparkR, use setLogLevel(newLevel).\n"
     ]
    },
    {
     "name": "stdout",
     "output_type": "stream",
     "text": [
      "22/11/02 21:01:57 WARN NativeCodeLoader: Unable to load native-hadoop library for your platform... using builtin-java classes where applicable\n"
     ]
    }
   ],
   "source": [
    "session = SparkSession.builder.appName('Practice').getOrCreate()"
   ]
  },
  {
   "cell_type": "markdown",
   "metadata": {},
   "source": [
    "Session is python object"
   ]
  },
  {
   "cell_type": "code",
   "execution_count": 3,
   "metadata": {},
   "outputs": [
    {
     "data": {
      "text/html": [
       "\n",
       "            <div>\n",
       "                <p><b>SparkSession - in-memory</b></p>\n",
       "                \n",
       "        <div>\n",
       "            <p><b>SparkContext</b></p>\n",
       "\n",
       "            <p><a href=\"http://192.168.0.19:4040\">Spark UI</a></p>\n",
       "\n",
       "            <dl>\n",
       "              <dt>Version</dt>\n",
       "                <dd><code>v3.3.0</code></dd>\n",
       "              <dt>Master</dt>\n",
       "                <dd><code>local[*]</code></dd>\n",
       "              <dt>AppName</dt>\n",
       "                <dd><code>Practice</code></dd>\n",
       "            </dl>\n",
       "        </div>\n",
       "        \n",
       "            </div>\n",
       "        "
      ],
      "text/plain": [
       "<pyspark.sql.session.SparkSession at 0x10643eb48>"
      ]
     },
     "execution_count": 3,
     "metadata": {},
     "output_type": "execute_result"
    }
   ],
   "source": [
    "session"
   ]
  },
  {
   "cell_type": "markdown",
   "metadata": {},
   "source": [
    "It's allocated in memory and has it own id"
   ]
  },
  {
   "cell_type": "code",
   "execution_count": 4,
   "metadata": {},
   "outputs": [
    {
     "data": {
      "text/plain": [
       "4400081736"
      ]
     },
     "execution_count": 4,
     "metadata": {},
     "output_type": "execute_result"
    }
   ],
   "source": [
    "id(session)"
   ]
  },
  {
   "cell_type": "markdown",
   "metadata": {},
   "source": [
    "Now I'm going to read example data which consists of flat rent offers"
   ]
  },
  {
   "cell_type": "code",
   "execution_count": 5,
   "metadata": {},
   "outputs": [],
   "source": [
    "path_to_file:str = 'data/data.csv'\n",
    "df = (\n",
    "    session.read\n",
    "    # setting the delimeter as ;\n",
    "    .option(\n",
    "    'delimiter',\n",
    "    ';'\n",
    "    )\n",
    "    # read header\n",
    "    .option(\n",
    "    'header', \n",
    "    'true')\n",
    "    .csv(\n",
    "    path_to_file,\n",
    "    # in order to keep existing datatypes\n",
    "    inferSchema=True\n",
    "        )\n",
    "    )"
   ]
  },
  {
   "cell_type": "markdown",
   "metadata": {},
   "source": [
    "Type of new created dataframe is **pyspark.sql.dataframe.DataFrame**"
   ]
  },
  {
   "cell_type": "code",
   "execution_count": 6,
   "metadata": {},
   "outputs": [
    {
     "data": {
      "text/plain": [
       "pyspark.sql.dataframe.DataFrame"
      ]
     },
     "execution_count": 6,
     "metadata": {},
     "output_type": "execute_result"
    }
   ],
   "source": [
    "type(df)"
   ]
  },
  {
   "cell_type": "markdown",
   "metadata": {},
   "source": [
    "How to get first n rows?"
   ]
  },
  {
   "cell_type": "code",
   "execution_count": 7,
   "metadata": {},
   "outputs": [
    {
     "data": {
      "text/plain": [
       "[Row(AREA_IN_M2=60.0, PRICE=5000.0, DATE=datetime.datetime(2022, 10, 21, 0, 0), DISTRICT='stare miasto'),\n",
       " Row(AREA_IN_M2=45.0, PRICE=2000.0, DATE=datetime.datetime(2022, 10, 21, 0, 0), DISTRICT='podolany'),\n",
       " Row(AREA_IN_M2=33.6, PRICE=1700.0, DATE=datetime.datetime(2022, 10, 21, 0, 0), DISTRICT='grunwald'),\n",
       " Row(AREA_IN_M2=60.0, PRICE=6000.0, DATE=datetime.datetime(2022, 10, 21, 0, 0), DISTRICT='stare miasto'),\n",
       " Row(AREA_IN_M2=43.0, PRICE=2850.0, DATE=datetime.datetime(2022, 10, 21, 0, 0), DISTRICT='łazarz')]"
      ]
     },
     "execution_count": 7,
     "metadata": {},
     "output_type": "execute_result"
    }
   ],
   "source": [
    "n = 5\n",
    "\n",
    "df.head(5)"
   ]
  },
  {
   "cell_type": "markdown",
   "metadata": {},
   "source": [
    "How to print schema?"
   ]
  },
  {
   "cell_type": "code",
   "execution_count": 8,
   "metadata": {},
   "outputs": [
    {
     "name": "stdout",
     "output_type": "stream",
     "text": [
      "root\n",
      " |-- AREA_IN_M2: double (nullable = true)\n",
      " |-- PRICE: double (nullable = true)\n",
      " |-- DATE: timestamp (nullable = true)\n",
      " |-- DISTRICT: string (nullable = true)\n",
      "\n"
     ]
    }
   ],
   "source": [
    "df.printSchema()"
   ]
  },
  {
   "cell_type": "markdown",
   "metadata": {},
   "source": [
    "How to get columns?"
   ]
  },
  {
   "cell_type": "code",
   "execution_count": 9,
   "metadata": {},
   "outputs": [
    {
     "data": {
      "text/plain": [
       "['AREA_IN_M2', 'PRICE', 'DATE', 'DISTRICT']"
      ]
     },
     "execution_count": 9,
     "metadata": {},
     "output_type": "execute_result"
    }
   ],
   "source": [
    "df.columns"
   ]
  },
  {
   "cell_type": "markdown",
   "metadata": {},
   "source": [
    "## Simple operations"
   ]
  },
  {
   "cell_type": "markdown",
   "metadata": {},
   "source": [
    "* Selecting"
   ]
  },
  {
   "cell_type": "code",
   "execution_count": 10,
   "metadata": {},
   "outputs": [
    {
     "name": "stdout",
     "output_type": "stream",
     "text": [
      "+-------------------+------+\n",
      "|               DATE| PRICE|\n",
      "+-------------------+------+\n",
      "|2022-10-21 00:00:00|5000.0|\n",
      "|2022-10-21 00:00:00|2000.0|\n",
      "|2022-10-21 00:00:00|1700.0|\n",
      "|2022-10-21 00:00:00|6000.0|\n",
      "|2022-10-21 00:00:00|2850.0|\n",
      "|2022-10-21 00:00:00|2999.0|\n",
      "|2022-10-21 00:00:00|3200.0|\n",
      "|2022-10-21 00:00:00|1900.0|\n",
      "|2022-10-21 00:00:00|2000.0|\n",
      "|2022-10-21 00:00:00| 100.0|\n",
      "|2022-10-21 00:00:00|2200.0|\n",
      "|2022-10-21 00:00:00|1800.0|\n",
      "|2022-10-21 00:00:00|2300.0|\n",
      "|2022-10-21 00:00:00|2300.0|\n",
      "|2022-10-21 00:00:00|3100.0|\n",
      "|2022-10-21 00:00:00|2300.0|\n",
      "|2022-10-21 00:00:00|2500.0|\n",
      "|2022-10-21 00:00:00|3100.0|\n",
      "|2022-10-21 00:00:00|2200.0|\n",
      "|2022-10-21 00:00:00|3600.0|\n",
      "+-------------------+------+\n",
      "only showing top 20 rows\n",
      "\n"
     ]
    }
   ],
   "source": [
    "columns_to_select:List[str] = ['DATE', 'PRICE']\n",
    "\n",
    "df.select(columns_to_select).show()"
   ]
  },
  {
   "cell_type": "markdown",
   "metadata": {},
   "source": [
    "* Filtering"
   ]
  },
  {
   "cell_type": "code",
   "execution_count": 11,
   "metadata": {},
   "outputs": [
    {
     "name": "stdout",
     "output_type": "stream",
     "text": [
      "+----------+------+-------------------+--------+\n",
      "|AREA_IN_M2| PRICE|               DATE|DISTRICT|\n",
      "+----------+------+-------------------+--------+\n",
      "|      33.6|1700.0|2022-10-21 00:00:00|grunwald|\n",
      "|      78.3|1300.0|2022-10-21 00:00:00|grunwald|\n",
      "|      39.0|2000.0|2022-10-21 00:00:00|grunwald|\n",
      "|      54.0|2000.0|2022-10-21 00:00:00|grunwald|\n",
      "|     59.35|2000.0|2022-10-21 00:00:00|grunwald|\n",
      "|      38.0|1700.0|2022-10-21 00:00:00|grunwald|\n",
      "|      48.0|2000.0|2022-10-21 00:00:00|grunwald|\n",
      "|      73.0|2000.0|2022-10-21 00:00:00|grunwald|\n",
      "|      35.0|1600.0|2022-10-21 00:00:00|grunwald|\n",
      "|      28.0|1700.0|2022-10-20 00:00:00|grunwald|\n",
      "|      27.5|1500.0|2022-10-19 00:00:00|grunwald|\n",
      "|      12.0|1500.0|2022-10-19 00:00:00|grunwald|\n",
      "|      31.0|1000.0|2022-10-19 00:00:00|grunwald|\n",
      "|      40.0|1600.0|2022-10-18 00:00:00|grunwald|\n",
      "|      52.0|1900.0|2022-10-18 00:00:00|grunwald|\n",
      "|      34.0|1600.0|2022-10-17 00:00:00|grunwald|\n",
      "|      35.0|1700.0|2022-10-17 00:00:00|grunwald|\n",
      "|      31.0|1800.0|2022-10-16 00:00:00|grunwald|\n",
      "|      32.0|1750.0|2022-10-16 00:00:00|grunwald|\n",
      "|      46.0|1700.0|2022-10-15 00:00:00|grunwald|\n",
      "+----------+------+-------------------+--------+\n",
      "only showing top 20 rows\n",
      "\n"
     ]
    }
   ],
   "source": [
    "df.filter(\n",
    "    (df['PRICE']<=2000) & \n",
    "    (df['DISTRICT'] == 'grunwald')\n",
    "    ).show()"
   ]
  }
 ],
 "metadata": {
  "kernelspec": {
   "display_name": "Python 3.7.13 64-bit ('pyspark-tutorial')",
   "language": "python",
   "name": "python3"
  },
  "language_info": {
   "codemirror_mode": {
    "name": "ipython",
    "version": 3
   },
   "file_extension": ".py",
   "mimetype": "text/x-python",
   "name": "python",
   "nbconvert_exporter": "python",
   "pygments_lexer": "ipython3",
   "version": "3.7.13"
  },
  "orig_nbformat": 4,
  "vscode": {
   "interpreter": {
    "hash": "4a3631b9901b04ebe815b1110b958919b8ed43273f540a4945999c06c834cabf"
   }
  }
 },
 "nbformat": 4,
 "nbformat_minor": 2
}
