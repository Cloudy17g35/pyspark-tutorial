{
 "cells": [
  {
   "cell_type": "code",
   "execution_count": 3,
   "metadata": {},
   "outputs": [],
   "source": [
    "# part one - basics\n",
    "import pyspark"
   ]
  },
  {
   "cell_type": "code",
   "execution_count": 4,
   "metadata": {},
   "outputs": [],
   "source": [
    "from pyspark.sql import SparkSession"
   ]
  },
  {
   "cell_type": "code",
   "execution_count": 5,
   "metadata": {},
   "outputs": [
    {
     "name": "stdout",
     "output_type": "stream",
     "text": [
      "22/10/21 16:56:55 WARN Utils: Your hostname, Ksawerys-MacBook-Pro.local resolves to a loopback address: 127.0.0.1; using 192.168.0.19 instead (on interface en0)\n",
      "22/10/21 16:56:55 WARN Utils: Set SPARK_LOCAL_IP if you need to bind to another address\n"
     ]
    },
    {
     "name": "stderr",
     "output_type": "stream",
     "text": [
      "Setting default log level to \"WARN\".\n",
      "To adjust logging level use sc.setLogLevel(newLevel). For SparkR, use setLogLevel(newLevel).\n"
     ]
    },
    {
     "name": "stdout",
     "output_type": "stream",
     "text": [
      "22/10/21 16:56:55 WARN NativeCodeLoader: Unable to load native-hadoop library for your platform... using builtin-java classes where applicable\n"
     ]
    }
   ],
   "source": [
    "session = SparkSession.builder.appName('Practice').getOrCreate()"
   ]
  },
  {
   "cell_type": "code",
   "execution_count": 6,
   "metadata": {},
   "outputs": [
    {
     "data": {
      "text/html": [
       "\n",
       "            <div>\n",
       "                <p><b>SparkSession - in-memory</b></p>\n",
       "                \n",
       "        <div>\n",
       "            <p><b>SparkContext</b></p>\n",
       "\n",
       "            <p><a href=\"http://192.168.0.19:4040\">Spark UI</a></p>\n",
       "\n",
       "            <dl>\n",
       "              <dt>Version</dt>\n",
       "                <dd><code>v3.3.0</code></dd>\n",
       "              <dt>Master</dt>\n",
       "                <dd><code>local[*]</code></dd>\n",
       "              <dt>AppName</dt>\n",
       "                <dd><code>Practice</code></dd>\n",
       "            </dl>\n",
       "        </div>\n",
       "        \n",
       "            </div>\n",
       "        "
      ],
      "text/plain": [
       "<pyspark.sql.session.SparkSession at 0x106186f48>"
      ]
     },
     "execution_count": 6,
     "metadata": {},
     "output_type": "execute_result"
    }
   ],
   "source": [
    "session"
   ]
  },
  {
   "cell_type": "code",
   "execution_count": 7,
   "metadata": {},
   "outputs": [],
   "source": [
    "path_to_file:str = 'data/data1.csv'\n",
    "df = session.read.csv(path_to_file)"
   ]
  },
  {
   "cell_type": "markdown",
   "metadata": {},
   "source": [
    "how to read with columns?"
   ]
  },
  {
   "cell_type": "code",
   "execution_count": 8,
   "metadata": {},
   "outputs": [],
   "source": [
    "df = session.read.option('header', 'true').csv(path_to_file)"
   ]
  },
  {
   "cell_type": "code",
   "execution_count": 9,
   "metadata": {},
   "outputs": [
    {
     "data": {
      "text/plain": [
       "pyspark.sql.dataframe.DataFrame"
      ]
     },
     "execution_count": 9,
     "metadata": {},
     "output_type": "execute_result"
    }
   ],
   "source": [
    "type(df)"
   ]
  },
  {
   "cell_type": "markdown",
   "metadata": {},
   "source": [
    "getting first n rows using head"
   ]
  },
  {
   "cell_type": "code",
   "execution_count": 10,
   "metadata": {},
   "outputs": [
    {
     "data": {
      "text/plain": [
       "[Row(OFFER_ID='783573846', AREA_IN_M2='56.7', PRICE='2000.0', FEES='500.0', DATE='2022-10-20', FLOOR='3.0', DISTRICT='łazarz', FURNISHED='1.0', DEVELOPMENT_TYPE='Kamienica', NUMBER_OF_ROOMS='2.0'),\n",
       " Row(OFFER_ID='699182179', AREA_IN_M2='32.0', PRICE='1900.0', FEES='600.0', DATE='2022-10-20', FLOOR='1.0', DISTRICT='naramowice', FURNISHED='1.0', DEVELOPMENT_TYPE='Blok', NUMBER_OF_ROOMS='1.0'),\n",
       " Row(OFFER_ID='789725155', AREA_IN_M2='40.0', PRICE='2000.0', FEES='400.0', DATE='2022-10-20', FLOOR='2.0', DISTRICT='górczyn', FURNISHED='1.0', DEVELOPMENT_TYPE='Blok', NUMBER_OF_ROOMS='2.0'),\n",
       " Row(OFFER_ID='785001616', AREA_IN_M2='50.0', PRICE='2600.0', FEES='450.0', DATE='2022-10-20', FLOOR='3.0', DISTRICT='rataje', FURNISHED='1.0', DEVELOPMENT_TYPE='Blok', NUMBER_OF_ROOMS='2.0'),\n",
       " Row(OFFER_ID='772378679', AREA_IN_M2='32.0', PRICE='1800.0', FEES='300.0', DATE='2022-10-20', FLOOR='8.0', DISTRICT='naramowice', FURNISHED='1.0', DEVELOPMENT_TYPE='Blok', NUMBER_OF_ROOMS='2.0')]"
      ]
     },
     "execution_count": 10,
     "metadata": {},
     "output_type": "execute_result"
    }
   ],
   "source": [
    "df.head(5)"
   ]
  },
  {
   "cell_type": "code",
   "execution_count": 11,
   "metadata": {},
   "outputs": [
    {
     "name": "stdout",
     "output_type": "stream",
     "text": [
      "root\n",
      " |-- OFFER_ID: string (nullable = true)\n",
      " |-- AREA_IN_M2: string (nullable = true)\n",
      " |-- PRICE: string (nullable = true)\n",
      " |-- FEES: string (nullable = true)\n",
      " |-- DATE: string (nullable = true)\n",
      " |-- FLOOR: string (nullable = true)\n",
      " |-- DISTRICT: string (nullable = true)\n",
      " |-- FURNISHED: string (nullable = true)\n",
      " |-- DEVELOPMENT_TYPE: string (nullable = true)\n",
      " |-- NUMBER_OF_ROOMS: string (nullable = true)\n",
      "\n"
     ]
    }
   ],
   "source": [
    "df.printSchema()"
   ]
  },
  {
   "cell_type": "markdown",
   "metadata": {},
   "source": [
    "Reading all the features as the realtypes using inferSchema arg"
   ]
  },
  {
   "cell_type": "code",
   "execution_count": 12,
   "metadata": {},
   "outputs": [],
   "source": [
    "df = session.read.option('header', 'true').csv(path_to_file, inferSchema=True)"
   ]
  },
  {
   "cell_type": "code",
   "execution_count": 13,
   "metadata": {},
   "outputs": [
    {
     "name": "stdout",
     "output_type": "stream",
     "text": [
      "root\n",
      " |-- OFFER_ID: integer (nullable = true)\n",
      " |-- AREA_IN_M2: double (nullable = true)\n",
      " |-- PRICE: double (nullable = true)\n",
      " |-- FEES: double (nullable = true)\n",
      " |-- DATE: timestamp (nullable = true)\n",
      " |-- FLOOR: double (nullable = true)\n",
      " |-- DISTRICT: string (nullable = true)\n",
      " |-- FURNISHED: double (nullable = true)\n",
      " |-- DEVELOPMENT_TYPE: string (nullable = true)\n",
      " |-- NUMBER_OF_ROOMS: double (nullable = true)\n",
      "\n"
     ]
    }
   ],
   "source": [
    "df.printSchema()"
   ]
  },
  {
   "cell_type": "markdown",
   "metadata": {},
   "source": [
    "Another way of reading is:\n"
   ]
  },
  {
   "cell_type": "code",
   "execution_count": 14,
   "metadata": {},
   "outputs": [],
   "source": [
    "df = session.read.csv(path_to_file, header=True, inferSchema=True)"
   ]
  },
  {
   "cell_type": "markdown",
   "metadata": {},
   "source": [
    "in orther to get columns use .columns attribute on spark dataframe"
   ]
  },
  {
   "cell_type": "code",
   "execution_count": 17,
   "metadata": {},
   "outputs": [
    {
     "data": {
      "text/plain": [
       "['OFFER_ID',\n",
       " 'AREA_IN_M2',\n",
       " 'PRICE',\n",
       " 'FEES',\n",
       " 'DATE',\n",
       " 'FLOOR',\n",
       " 'DISTRICT',\n",
       " 'FURNISHED',\n",
       " 'DEVELOPMENT_TYPE',\n",
       " 'NUMBER_OF_ROOMS']"
      ]
     },
     "execution_count": 17,
     "metadata": {},
     "output_type": "execute_result"
    }
   ],
   "source": [
    "df.columns"
   ]
  },
  {
   "cell_type": "markdown",
   "metadata": {},
   "source": [
    "CHoosing one column"
   ]
  },
  {
   "cell_type": "code",
   "execution_count": 23,
   "metadata": {},
   "outputs": [
    {
     "data": {
      "text/plain": [
       "pyspark.sql.dataframe.DataFrame"
      ]
     },
     "execution_count": 23,
     "metadata": {},
     "output_type": "execute_result"
    }
   ],
   "source": [
    "type(df.select('OFFER_ID'))"
   ]
  },
  {
   "cell_type": "markdown",
   "metadata": {},
   "source": [
    "Choosing two features:"
   ]
  },
  {
   "cell_type": "code",
   "execution_count": 25,
   "metadata": {},
   "outputs": [
    {
     "name": "stdout",
     "output_type": "stream",
     "text": [
      "+---------+------+\n",
      "| OFFER_ID| PRICE|\n",
      "+---------+------+\n",
      "|783573846|2000.0|\n",
      "|699182179|1900.0|\n",
      "|789725155|2000.0|\n",
      "|785001616|2600.0|\n",
      "|772378679|1800.0|\n",
      "|787778646|4500.0|\n",
      "|780811960|2500.0|\n",
      "|789097375|2600.0|\n",
      "|778989502|2400.0|\n",
      "|789887714|3400.0|\n",
      "|789892195|2500.0|\n",
      "|687054779|1700.0|\n",
      "|789261200|2900.0|\n",
      "|788632575|1800.0|\n",
      "|784659004|3500.0|\n",
      "|775652046|2600.0|\n",
      "|773522801|5000.0|\n",
      "|786777701|3500.0|\n",
      "|785373210|2150.0|\n",
      "|787834940|1400.0|\n",
      "+---------+------+\n",
      "only showing top 20 rows\n",
      "\n"
     ]
    }
   ],
   "source": [
    "df.select(['OFFER_ID', 'PRICE']).show()"
   ]
  },
  {
   "cell_type": "code",
   "execution_count": null,
   "metadata": {},
   "outputs": [],
   "source": []
  }
 ],
 "metadata": {
  "kernelspec": {
   "display_name": "Python 3.7.13 64-bit ('pyspark-tutorial')",
   "language": "python",
   "name": "python3"
  },
  "language_info": {
   "codemirror_mode": {
    "name": "ipython",
    "version": 3
   },
   "file_extension": ".py",
   "mimetype": "text/x-python",
   "name": "python",
   "nbconvert_exporter": "python",
   "pygments_lexer": "ipython3",
   "version": "3.7.13"
  },
  "orig_nbformat": 4,
  "vscode": {
   "interpreter": {
    "hash": "4a3631b9901b04ebe815b1110b958919b8ed43273f540a4945999c06c834cabf"
   }
  }
 },
 "nbformat": 4,
 "nbformat_minor": 2
}
